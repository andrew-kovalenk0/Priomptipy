{
 "cells": [
  {
   "cell_type": "code",
   "execution_count": 1,
   "metadata": {},
   "outputs": [],
   "source": [
    "from priomptipy import SystemMessage, UserMessage, AssistantMessage, Scope, render\n",
    "from pprint import pprint\n",
    "import pandas as pd"
   ]
  },
  {
   "cell_type": "code",
   "execution_count": 2,
   "metadata": {},
   "outputs": [],
   "source": [
    "def add_few_shot(examples: list[dict]) -> list[Scope]:\n",
    "    \"\"\"Converting examples to the required structure.\n",
    "\n",
    "    Args:\n",
    "        examples (list[dict]): A list of dictionaries\n",
    "        containing input and output examples.\n",
    "\n",
    "    Returns:\n",
    "        list[Scope]: A list of Scope objects containing\n",
    "        the few shot examples.\n",
    "    \"\"\"\n",
    "    few_shot_scope = []\n",
    "    for ex in examples:\n",
    "        # Create a Scope object for each example with highest priority\n",
    "        few_shot_scope.append(Scope([\n",
    "            UserMessage(ex[\"input\"]),\n",
    "            AssistantMessage(ex[\"output\"])\n",
    "        ], absolute_priority=10))\n",
    "    return few_shot_scope"
   ]
  },
  {
   "cell_type": "code",
   "execution_count": 3,
   "metadata": {},
   "outputs": [],
   "source": [
    "sales_data = {\n",
    "    'Product': ['A', 'B', 'C', 'D', 'E'],\n",
    "    'Sales (Jan)': [100, 80, 50, 90, 200],\n",
    "    'Sales (Feb)': [150, 90, 60, 100, 210],\n",
    "    'Sales (Mar)': [200, 120, 70, 110, 220],\n",
    "    'Sales (Apr)': [250, 130, 80, 120, 230],\n",
    "    'Sales (May)': [300, 160, 100, 130, 240],\n",
    "    'Sales (Jun)': [350, 200, 110, 140, 250]\n",
    "}\n",
    "sales_df = pd.DataFrame(sales_data)\n",
    "df_as_text = sales_df.to_string(index=False)\n"
   ]
  },
  {
   "cell_type": "code",
   "execution_count": 4,
   "metadata": {},
   "outputs": [],
   "source": [
    "few_shot_data = [\n",
    "    {\"input\": \"Analyze the sales trend for Product B over six months.\",\n",
    "     \"output\": \"Product B shows a steady growth over the six-month period.\\\n",
    "        Sales grew from 80 in January to 200 in June, indicating a total increase of 150%.\"},\n",
    "    \n",
    "    {\"input\": \"Which product had the highest total sales over the last six months?\",\n",
    "     \"output\": \"Product E had the highest total sales over six months, with a combined total of 1,350 units.\"},\n",
    "    \n",
    "    {\"input\": \"Compare the growth rates of Products A and C over the six-month period.\",\n",
    "     \"output\": \"Product A grew by 250%, while Product C grew by 120%. Product A exhibited a stronger growth rate.\"},\n",
    "    \n",
    "    {\"input\": \"What is the average monthly sales for Product D?\",\n",
    "     \"output\": \"The average monthly sales for Product D is 115 units.\"}\n",
    "]\n",
    "few_shot_examples = add_few_shot(few_shot_data)"
   ]
  },
  {
   "cell_type": "code",
   "execution_count": 5,
   "metadata": {},
   "outputs": [],
   "source": [
    "system_message = [SystemMessage(\"You are Quarkle, an AI Developmental Editor\")]\n",
    "\n",
    "actual_conversation = [UserMessage(f\"Here is the sales data:\\n{df_as_text}\\n\\\n",
    "                                   Calculate the percentage increase in sales for Product E from January to June.\")]"
   ]
  },
  {
   "cell_type": "code",
   "execution_count": 6,
   "metadata": {},
   "outputs": [
    {
     "name": "stdout",
     "output_type": "stream",
     "text": [
      "{'messages': [{'content': 'You are Quarkle, an AI Developmental Editor',\n",
      "               'role': 'system'},\n",
      "              {'content': 'Analyze the sales trend for Product B over six '\n",
      "                          'months.',\n",
      "               'role': 'user'},\n",
      "              {'content': 'Product B shows a steady growth over the six-month '\n",
      "                          'period.        Sales grew from 80 in January to 200 '\n",
      "                          'in June, indicating a total increase of 150%.',\n",
      "               'role': 'assistant'},\n",
      "              {'content': 'Which product had the highest total sales over the '\n",
      "                          'last six months?',\n",
      "               'role': 'user'},\n",
      "              {'content': 'Product E had the highest total sales over six '\n",
      "                          'months, with a combined total of 1,350 units.',\n",
      "               'role': 'assistant'},\n",
      "              {'content': 'Compare the growth rates of Products A and C over '\n",
      "                          'the six-month period.',\n",
      "               'role': 'user'},\n",
      "              {'content': 'Product A grew by 250%, while Product C grew by '\n",
      "                          '120%. Product A exhibited a stronger growth rate.',\n",
      "               'role': 'assistant'},\n",
      "              {'content': 'What is the average monthly sales for Product D?',\n",
      "               'role': 'user'},\n",
      "              {'content': 'The average monthly sales for Product D is 115 '\n",
      "                          'units.',\n",
      "               'role': 'assistant'},\n",
      "              {'content': 'Here is the sales data:\\n'\n",
      "                          'Product  Sales (Jan)  Sales (Feb)  Sales (Mar)  '\n",
      "                          'Sales (Apr)  Sales (May)  Sales (Jun)\\n'\n",
      "                          '      A          100          150          '\n",
      "                          '200          250          300          350\\n'\n",
      "                          '      B           80           90          '\n",
      "                          '120          130          160          200\\n'\n",
      "                          '      C           50           60           '\n",
      "                          '70           80          100          110\\n'\n",
      "                          '      D           90          100          '\n",
      "                          '110          120          130          140\\n'\n",
      "                          '      E          200          210          '\n",
      "                          '220          230          240          250\\n'\n",
      "                          '                                   Calculate the '\n",
      "                          'percentage increase in sales for Product E from '\n",
      "                          'January to June.',\n",
      "               'role': 'user'}],\n",
      " 'type': 'chat'}\n"
     ]
    }
   ],
   "source": [
    "# Combine all message components\n",
    "messages = system_message + few_shot_examples + actual_conversation\n",
    "# Set rendering options including token limit and tokenizer\n",
    "render_options = {\"token_limit\": 1000, \"tokenizer\": \"cl100k_base\"}\n",
    "# Render the messages\n",
    "result = await render(messages, render_options)\n",
    "pprint(result['prompt'])"
   ]
  }
 ],
 "metadata": {
  "kernelspec": {
   "display_name": ".venv",
   "language": "python",
   "name": "python3"
  },
  "language_info": {
   "codemirror_mode": {
    "name": "ipython",
    "version": 3
   },
   "file_extension": ".py",
   "mimetype": "text/x-python",
   "name": "python",
   "nbconvert_exporter": "python",
   "pygments_lexer": "ipython3",
   "version": "3.12.3"
  }
 },
 "nbformat": 4,
 "nbformat_minor": 2
}
